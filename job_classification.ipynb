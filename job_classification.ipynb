{
 "cells": [
  {
   "cell_type": "markdown",
   "id": "622d005c-aad8-45ca-a86d-2b1673e1aa44",
   "metadata": {},
   "source": [
    "# Import libraries"
   ]
  },
  {
   "cell_type": "code",
   "execution_count": 1,
   "id": "8cd50145-ab40-4ffd-9145-a2a297fa5526",
   "metadata": {},
   "outputs": [
    {
     "name": "stderr",
     "output_type": "stream",
     "text": [
      "[nltk_data] Downloading package punkt to\n",
      "[nltk_data]     C:\\Users\\Gamer\\AppData\\Roaming\\nltk_data...\n",
      "[nltk_data]   Package punkt is already up-to-date!\n",
      "[nltk_data] Downloading package averaged_perceptron_tagger to\n",
      "[nltk_data]     C:\\Users\\Gamer\\AppData\\Roaming\\nltk_data...\n",
      "[nltk_data]   Package averaged_perceptron_tagger is already up-to-\n",
      "[nltk_data]       date!\n",
      "[nltk_data] Downloading package wordnet to\n",
      "[nltk_data]     C:\\Users\\Gamer\\AppData\\Roaming\\nltk_data...\n",
      "[nltk_data]   Package wordnet is already up-to-date!\n",
      "[nltk_data] Downloading package stopwords to\n",
      "[nltk_data]     C:\\Users\\Gamer\\AppData\\Roaming\\nltk_data...\n",
      "[nltk_data]   Package stopwords is already up-to-date!\n"
     ]
    }
   ],
   "source": [
    "import pandas as pd\n",
    "import numpy as np\n",
    "\n",
    "#for text pre-processing\n",
    "import re, string\n",
    "import nltk\n",
    "import contractions\n",
    "from nltk.tokenize import word_tokenize\n",
    "from nltk.corpus import stopwords\n",
    "from nltk.tokenize import word_tokenize\n",
    "from nltk.stem import SnowballStemmer\n",
    "from nltk.corpus import wordnet\n",
    "from nltk.stem import WordNetLemmatizer\n",
    "nltk.download('punkt')\n",
    "nltk.download('averaged_perceptron_tagger')\n",
    "nltk.download('wordnet')\n",
    "nltk.download('stopwords')\n",
    "\n",
    "#for model-building\n",
    "from sklearn.model_selection import train_test_split\n",
    "from sklearn.linear_model import LogisticRegression\n",
    "from sklearn.naive_bayes import MultinomialNB\n",
    "from sklearn.metrics import classification_report, f1_score, accuracy_score, confusion_matrix, ConfusionMatrixDisplay\n",
    "from sklearn.metrics import roc_curve, auc, roc_auc_score\n",
    "\n",
    "# bag of words\n",
    "from sklearn.feature_extraction.text import TfidfVectorizer\n",
    "from sklearn.feature_extraction.text import CountVectorizer"
   ]
  },
  {
   "cell_type": "markdown",
   "id": "0083a653-7497-40b8-a63e-78c668fc66ae",
   "metadata": {},
   "source": [
    "# Preprocess data"
   ]
  },
  {
   "cell_type": "code",
   "execution_count": 2,
   "id": "1ff94db1-4d56-4a3b-b4a0-5069c3611598",
   "metadata": {},
   "outputs": [
    {
     "data": {
      "text/html": [
       "<div>\n",
       "<style scoped>\n",
       "    .dataframe tbody tr th:only-of-type {\n",
       "        vertical-align: middle;\n",
       "    }\n",
       "\n",
       "    .dataframe tbody tr th {\n",
       "        vertical-align: top;\n",
       "    }\n",
       "\n",
       "    .dataframe thead th {\n",
       "        text-align: right;\n",
       "    }\n",
       "</style>\n",
       "<table border=\"1\" class=\"dataframe\">\n",
       "  <thead>\n",
       "    <tr style=\"text-align: right;\">\n",
       "      <th></th>\n",
       "      <th>job_link</th>\n",
       "      <th>job_title</th>\n",
       "    </tr>\n",
       "  </thead>\n",
       "  <tbody>\n",
       "    <tr>\n",
       "      <th>0</th>\n",
       "      <td>https://www.linkedin.com/jobs/view/senior-mach...</td>\n",
       "      <td>Senior Machine Learning Engineer</td>\n",
       "    </tr>\n",
       "    <tr>\n",
       "      <th>1</th>\n",
       "      <td>https://www.linkedin.com/jobs/view/principal-s...</td>\n",
       "      <td>Principal Software Engineer, ML Accelerators</td>\n",
       "    </tr>\n",
       "    <tr>\n",
       "      <th>2</th>\n",
       "      <td>https://www.linkedin.com/jobs/view/senior-etl-...</td>\n",
       "      <td>Senior ETL Data Warehouse Specialist</td>\n",
       "    </tr>\n",
       "    <tr>\n",
       "      <th>3</th>\n",
       "      <td>https://www.linkedin.com/jobs/view/senior-data...</td>\n",
       "      <td>Senior Data Warehouse Developer / Architect</td>\n",
       "    </tr>\n",
       "    <tr>\n",
       "      <th>4</th>\n",
       "      <td>https://www.linkedin.com/jobs/view/lead-data-e...</td>\n",
       "      <td>Lead Data Engineer</td>\n",
       "    </tr>\n",
       "  </tbody>\n",
       "</table>\n",
       "</div>"
      ],
      "text/plain": [
       "                                            job_link  \\\n",
       "0  https://www.linkedin.com/jobs/view/senior-mach...   \n",
       "1  https://www.linkedin.com/jobs/view/principal-s...   \n",
       "2  https://www.linkedin.com/jobs/view/senior-etl-...   \n",
       "3  https://www.linkedin.com/jobs/view/senior-data...   \n",
       "4  https://www.linkedin.com/jobs/view/lead-data-e...   \n",
       "\n",
       "                                      job_title  \n",
       "0              Senior Machine Learning Engineer  \n",
       "1  Principal Software Engineer, ML Accelerators  \n",
       "2          Senior ETL Data Warehouse Specialist  \n",
       "3   Senior Data Warehouse Developer / Architect  \n",
       "4                            Lead Data Engineer  "
      ]
     },
     "execution_count": 2,
     "metadata": {},
     "output_type": "execute_result"
    }
   ],
   "source": [
    "df = pd.read_csv(r\"C:\\Users\\Gamer\\Documents\\PERSONAL\\Job_title_prediction\\job_postings.csv\")\n",
    "df2 = pd.read_csv(r\"C:\\Users\\Gamer\\Documents\\PERSONAL\\Job_title_prediction\\job_summary.csv\")\n",
    "\n",
    "df = df[[\"job_link\",\"job_title\"]]\n",
    "df.head()"
   ]
  },
  {
   "cell_type": "code",
   "execution_count": 3,
   "id": "80bbe090-849c-4c00-abf6-f960ac853f12",
   "metadata": {},
   "outputs": [
    {
     "data": {
      "text/html": [
       "<div>\n",
       "<style scoped>\n",
       "    .dataframe tbody tr th:only-of-type {\n",
       "        vertical-align: middle;\n",
       "    }\n",
       "\n",
       "    .dataframe tbody tr th {\n",
       "        vertical-align: top;\n",
       "    }\n",
       "\n",
       "    .dataframe thead th {\n",
       "        text-align: right;\n",
       "    }\n",
       "</style>\n",
       "<table border=\"1\" class=\"dataframe\">\n",
       "  <thead>\n",
       "    <tr style=\"text-align: right;\">\n",
       "      <th></th>\n",
       "      <th>job_title</th>\n",
       "      <th>job_summary</th>\n",
       "    </tr>\n",
       "  </thead>\n",
       "  <tbody>\n",
       "    <tr>\n",
       "      <th>0</th>\n",
       "      <td>Senior Machine Learning Engineer</td>\n",
       "      <td>Company Description\\nJobs for Humanity is part...</td>\n",
       "    </tr>\n",
       "    <tr>\n",
       "      <th>1</th>\n",
       "      <td>Principal Software Engineer, ML Accelerators</td>\n",
       "      <td>Who We Are\\nAurora (Nasdaq: AUR) is delivering...</td>\n",
       "    </tr>\n",
       "    <tr>\n",
       "      <th>2</th>\n",
       "      <td>Senior ETL Data Warehouse Specialist</td>\n",
       "      <td>Location: New York City, NY\\nPosition Summary\\...</td>\n",
       "    </tr>\n",
       "    <tr>\n",
       "      <th>3</th>\n",
       "      <td>Senior Data Warehouse Developer / Architect</td>\n",
       "      <td>Responsibilities:\\nCandidate must have signifi...</td>\n",
       "    </tr>\n",
       "    <tr>\n",
       "      <th>4</th>\n",
       "      <td>Lead Data Engineer</td>\n",
       "      <td>Dice is the leading career destination for tec...</td>\n",
       "    </tr>\n",
       "  </tbody>\n",
       "</table>\n",
       "</div>"
      ],
      "text/plain": [
       "                                      job_title  \\\n",
       "0              Senior Machine Learning Engineer   \n",
       "1  Principal Software Engineer, ML Accelerators   \n",
       "2          Senior ETL Data Warehouse Specialist   \n",
       "3   Senior Data Warehouse Developer / Architect   \n",
       "4                            Lead Data Engineer   \n",
       "\n",
       "                                         job_summary  \n",
       "0  Company Description\\nJobs for Humanity is part...  \n",
       "1  Who We Are\\nAurora (Nasdaq: AUR) is delivering...  \n",
       "2  Location: New York City, NY\\nPosition Summary\\...  \n",
       "3  Responsibilities:\\nCandidate must have signifi...  \n",
       "4  Dice is the leading career destination for tec...  "
      ]
     },
     "execution_count": 3,
     "metadata": {},
     "output_type": "execute_result"
    }
   ],
   "source": [
    "df_merge = pd.merge(df,df2,on=\"job_link\",how=\"right\")\n",
    "df_merge = df_merge.drop(columns=\"job_link\")\n",
    "df_merge.head()"
   ]
  },
  {
   "cell_type": "code",
   "execution_count": 4,
   "id": "996dc01d-e65d-4051-8552-1c57aea510a4",
   "metadata": {
    "scrolled": true
   },
   "outputs": [
    {
     "data": {
      "text/html": [
       "<div>\n",
       "<style scoped>\n",
       "    .dataframe tbody tr th:only-of-type {\n",
       "        vertical-align: middle;\n",
       "    }\n",
       "\n",
       "    .dataframe tbody tr th {\n",
       "        vertical-align: top;\n",
       "    }\n",
       "\n",
       "    .dataframe thead th {\n",
       "        text-align: right;\n",
       "    }\n",
       "</style>\n",
       "<table border=\"1\" class=\"dataframe\">\n",
       "  <thead>\n",
       "    <tr style=\"text-align: right;\">\n",
       "      <th></th>\n",
       "      <th>job_title</th>\n",
       "      <th>job_summary</th>\n",
       "    </tr>\n",
       "  </thead>\n",
       "  <tbody>\n",
       "    <tr>\n",
       "      <th>0</th>\n",
       "      <td>senior machine learning engineer</td>\n",
       "      <td>company description\\njobs for humanity is part...</td>\n",
       "    </tr>\n",
       "    <tr>\n",
       "      <th>1</th>\n",
       "      <td>principal software engineer, ml accelerators</td>\n",
       "      <td>who we are\\naurora (nasdaq: aur) is delivering...</td>\n",
       "    </tr>\n",
       "    <tr>\n",
       "      <th>2</th>\n",
       "      <td>senior etl data warehouse specialist</td>\n",
       "      <td>location: new york city, ny\\nposition summary\\...</td>\n",
       "    </tr>\n",
       "    <tr>\n",
       "      <th>3</th>\n",
       "      <td>senior data warehouse developer / architect</td>\n",
       "      <td>responsibilities:\\ncandidate must have signifi...</td>\n",
       "    </tr>\n",
       "    <tr>\n",
       "      <th>4</th>\n",
       "      <td>lead data engineer</td>\n",
       "      <td>dice is the leading career destination for tec...</td>\n",
       "    </tr>\n",
       "  </tbody>\n",
       "</table>\n",
       "</div>"
      ],
      "text/plain": [
       "                                      job_title  \\\n",
       "0              senior machine learning engineer   \n",
       "1  principal software engineer, ml accelerators   \n",
       "2          senior etl data warehouse specialist   \n",
       "3   senior data warehouse developer / architect   \n",
       "4                            lead data engineer   \n",
       "\n",
       "                                         job_summary  \n",
       "0  company description\\njobs for humanity is part...  \n",
       "1  who we are\\naurora (nasdaq: aur) is delivering...  \n",
       "2  location: new york city, ny\\nposition summary\\...  \n",
       "3  responsibilities:\\ncandidate must have signifi...  \n",
       "4  dice is the leading career destination for tec...  "
      ]
     },
     "execution_count": 4,
     "metadata": {},
     "output_type": "execute_result"
    }
   ],
   "source": [
    "df_merge[[\"job_title\",\"job_summary\"]] = df_merge[[\"job_title\",\"job_summary\"]].apply(lambda col:col.str.lower())\n",
    "df_merge.head()"
   ]
  },
  {
   "cell_type": "code",
   "execution_count": 5,
   "id": "049f7e92-bfa8-4f28-9f70-46f2f829d6d3",
   "metadata": {},
   "outputs": [
    {
     "name": "stdout",
     "output_type": "stream",
     "text": [
      "job_title\n",
      "senior data engineer                                                    288\n",
      "senior data analyst                                                     165\n",
      "data engineer                                                           150\n",
      "data analyst                                                            140\n",
      "senior mlops engineer                                                   138\n",
      "data scientist                                                          128\n",
      "lead data engineer                                                      123\n",
      "senior data scientist                                                   119\n",
      "data architect                                                          115\n",
      "staff machine learning engineer, series a                               101\n",
      "senior machine learning engineer                                         59\n",
      "manager, data engineering                                                57\n",
      "manager, data loss prevention (dlp) engineer (symantec)                  57\n",
      "senior database administrator                                            54\n",
      "senior machine learning engineer - ai                                    53\n",
      "senior data engineer, public company                                     53\n",
      "principal associate, data loss prevention (dlp) engineer                 53\n",
      "machine learning engineer                                                49\n",
      "lead data scientist                                                      46\n",
      "senior mls engineer, autonomous driving startup                          45\n",
      "manager, data engineering (python, aws, airflow, snowflake) (hybrid)     44\n",
      "senior manager, ontology and data modeling                               41\n",
      "sr. data engineer                                                        39\n",
      "database administrator                                                   37\n",
      "senior manager, machine learning engineering                             36\n",
      "lead machine learning engineer                                           35\n",
      "contractor - epic clarity data analyst - revenue cycle                   34\n",
      "business data analyst                                                    33\n",
      "contractor - epic clarity data analyst                                   32\n",
      "manager, cyber risk & analysis (machine learning)                        32\n",
      "Name: count, dtype: int64\n",
      "Total: 12217, top 30: 2356\n"
     ]
    }
   ],
   "source": [
    "top_30_job_title = df_merge[\"job_title\"].value_counts().head(30)\n",
    "print(top_30_job_title)\n",
    "print(f\"Total: { df_merge.shape[0] }, top 30: {top_30_job_title.sum()}\")"
   ]
  },
  {
   "cell_type": "code",
   "execution_count": 6,
   "id": "ae3932fc-4f54-481a-b3bf-994352799468",
   "metadata": {},
   "outputs": [
    {
     "name": "stdout",
     "output_type": "stream",
     "text": [
      "1650\n",
      "2748\n"
     ]
    }
   ],
   "source": [
    "print(df_merge[\"job_title\"].str.count(\"manager\").sum())\n",
    "print(df_merge[\"job_title\"].str.count(\"senior\").sum())"
   ]
  },
  {
   "cell_type": "code",
   "execution_count": 7,
   "id": "d9b4843f-70b9-42cb-8873-61f410042e90",
   "metadata": {},
   "outputs": [
    {
     "data": {
      "text/html": [
       "<div>\n",
       "<style scoped>\n",
       "    .dataframe tbody tr th:only-of-type {\n",
       "        vertical-align: middle;\n",
       "    }\n",
       "\n",
       "    .dataframe tbody tr th {\n",
       "        vertical-align: top;\n",
       "    }\n",
       "\n",
       "    .dataframe thead th {\n",
       "        text-align: right;\n",
       "    }\n",
       "</style>\n",
       "<table border=\"1\" class=\"dataframe\">\n",
       "  <thead>\n",
       "    <tr style=\"text-align: right;\">\n",
       "      <th></th>\n",
       "      <th>job_title</th>\n",
       "      <th>job_summary</th>\n",
       "    </tr>\n",
       "  </thead>\n",
       "  <tbody>\n",
       "    <tr>\n",
       "      <th>0</th>\n",
       "      <td>engineer</td>\n",
       "      <td>company description\\njobs for humanity is part...</td>\n",
       "    </tr>\n",
       "    <tr>\n",
       "      <th>1</th>\n",
       "      <td>engineer</td>\n",
       "      <td>who we are\\naurora (nasdaq: aur) is delivering...</td>\n",
       "    </tr>\n",
       "    <tr>\n",
       "      <th>2</th>\n",
       "      <td>engineer</td>\n",
       "      <td>location: new york city, ny\\nposition summary\\...</td>\n",
       "    </tr>\n",
       "    <tr>\n",
       "      <th>3</th>\n",
       "      <td>engineer</td>\n",
       "      <td>responsibilities:\\ncandidate must have signifi...</td>\n",
       "    </tr>\n",
       "    <tr>\n",
       "      <th>4</th>\n",
       "      <td>engineer</td>\n",
       "      <td>dice is the leading career destination for tec...</td>\n",
       "    </tr>\n",
       "    <tr>\n",
       "      <th>5</th>\n",
       "      <td>engineer</td>\n",
       "      <td>department\\nf&amp;a its - business intelligence so...</td>\n",
       "    </tr>\n",
       "    <tr>\n",
       "      <th>6</th>\n",
       "      <td>manager</td>\n",
       "      <td>company description\\njobs for humanity is part...</td>\n",
       "    </tr>\n",
       "    <tr>\n",
       "      <th>7</th>\n",
       "      <td>engineer</td>\n",
       "      <td>company description\\njobs for humanity is part...</td>\n",
       "    </tr>\n",
       "    <tr>\n",
       "      <th>8</th>\n",
       "      <td>engineer</td>\n",
       "      <td>enterprise technology/telecom is looking for s...</td>\n",
       "    </tr>\n",
       "    <tr>\n",
       "      <th>9</th>\n",
       "      <td>engineer</td>\n",
       "      <td>jd:\\nresponsibilities\\ndesign and develop syst...</td>\n",
       "    </tr>\n",
       "    <tr>\n",
       "      <th>10</th>\n",
       "      <td>engineer</td>\n",
       "      <td>sr. workforce management data analyst - alvari...</td>\n",
       "    </tr>\n",
       "    <tr>\n",
       "      <th>11</th>\n",
       "      <td>engineer</td>\n",
       "      <td>opentext - the information company\\nas the inf...</td>\n",
       "    </tr>\n",
       "    <tr>\n",
       "      <th>12</th>\n",
       "      <td>engineer</td>\n",
       "      <td>job #1: corporate associate\\nthe ideal candida...</td>\n",
       "    </tr>\n",
       "    <tr>\n",
       "      <th>13</th>\n",
       "      <td>engineer</td>\n",
       "      <td>dice is the leading career destination for tec...</td>\n",
       "    </tr>\n",
       "    <tr>\n",
       "      <th>14</th>\n",
       "      <td>engineer</td>\n",
       "      <td>who is recruiting from scratch :\\nrecruiting f...</td>\n",
       "    </tr>\n",
       "    <tr>\n",
       "      <th>15</th>\n",
       "      <td>manager</td>\n",
       "      <td>join our team as a data engineering manager!\\n...</td>\n",
       "    </tr>\n",
       "    <tr>\n",
       "      <th>16</th>\n",
       "      <td>engineer</td>\n",
       "      <td>summary:\\ndata analyst part time will be respo...</td>\n",
       "    </tr>\n",
       "    <tr>\n",
       "      <th>17</th>\n",
       "      <td>engineer</td>\n",
       "      <td>what you do at amd changes everything\\nwe care...</td>\n",
       "    </tr>\n",
       "    <tr>\n",
       "      <th>18</th>\n",
       "      <td>manager</td>\n",
       "      <td>enterprise data manager/product owner(only loc...</td>\n",
       "    </tr>\n",
       "    <tr>\n",
       "      <th>19</th>\n",
       "      <td>engineer</td>\n",
       "      <td>our client is seeking a senior database develo...</td>\n",
       "    </tr>\n",
       "  </tbody>\n",
       "</table>\n",
       "</div>"
      ],
      "text/plain": [
       "   job_title                                        job_summary\n",
       "0   engineer  company description\\njobs for humanity is part...\n",
       "1   engineer  who we are\\naurora (nasdaq: aur) is delivering...\n",
       "2   engineer  location: new york city, ny\\nposition summary\\...\n",
       "3   engineer  responsibilities:\\ncandidate must have signifi...\n",
       "4   engineer  dice is the leading career destination for tec...\n",
       "5   engineer  department\\nf&a its - business intelligence so...\n",
       "6    manager  company description\\njobs for humanity is part...\n",
       "7   engineer  company description\\njobs for humanity is part...\n",
       "8   engineer  enterprise technology/telecom is looking for s...\n",
       "9   engineer  jd:\\nresponsibilities\\ndesign and develop syst...\n",
       "10  engineer  sr. workforce management data analyst - alvari...\n",
       "11  engineer  opentext - the information company\\nas the inf...\n",
       "12  engineer  job #1: corporate associate\\nthe ideal candida...\n",
       "13  engineer  dice is the leading career destination for tec...\n",
       "14  engineer  who is recruiting from scratch :\\nrecruiting f...\n",
       "15   manager  join our team as a data engineering manager!\\n...\n",
       "16  engineer  summary:\\ndata analyst part time will be respo...\n",
       "17  engineer  what you do at amd changes everything\\nwe care...\n",
       "18   manager  enterprise data manager/product owner(only loc...\n",
       "19  engineer  our client is seeking a senior database develo..."
      ]
     },
     "execution_count": 7,
     "metadata": {},
     "output_type": "execute_result"
    }
   ],
   "source": [
    "df_merge[\"job_title\"] = df_merge[\"job_title\"].apply(lambda title: \"manager\" if \"manager\" in title else \"engineer\")\n",
    "df_merge.head(20)"
   ]
  },
  {
   "cell_type": "code",
   "execution_count": 8,
   "id": "855adb8f-303f-4628-b271-1e69eb541e6b",
   "metadata": {},
   "outputs": [
    {
     "data": {
      "text/plain": [
       "<Axes: xlabel='job_title'>"
      ]
     },
     "execution_count": 8,
     "metadata": {},
     "output_type": "execute_result"
    },
    {
     "data": {
      "image/png": "[encoded data removed]",
      "text/plain": [
       "<Figure size 640x480 with 1 Axes>"
      ]
     },
     "metadata": {},
     "output_type": "display_data"
    }
   ],
   "source": [
    "df_merge[\"job_title\"].value_counts().plot(kind=\"bar\")"
   ]
  },
  {
   "cell_type": "code",
   "execution_count": 9,
   "id": "52d7bc5e-5de1-44fb-aec3-e81b75d1acbc",
   "metadata": {},
   "outputs": [
    {
     "name": "stdout",
     "output_type": "stream",
     "text": [
      "department\n",
      "f&a its - business intelligence solutions\n",
      "about the department\n",
      "it services collaborates with campus partners to support the mission of the university of chicago through the consistent delivery of high-quality solutions and services.\n",
      "we provide secure, stable, and reliable infrastructure and applications to support the mission of the university.\n",
      "we support and enable faculty research and teaching with the effective use of technology.\n",
      "we simplify the technology experience for faculty, students, alumni, and staff, and we ensure technology is mobile-friendly and accessible.\n",
      "we identify, manage, and mitigate the technology risks of the university.\n",
      "job summary\n",
      "the senior data engineer is the technical lead on projects to design, develop, and qa data warehouse (dw) and extract/transform/load (etl) environments, and other database environments, to enable analytics. this role follows the prescribed project and development methodology. under the direction of a project manager, this role will work closely with the lead architect, bi lead, dw developers, source application developers, and subject matter experts (smes). the senior data engineer will support, maintain, and enhance these environments to achieve a cross-functional, integrated reporting and analysis environment for university users.\n",
      "responsibilities\n",
      "works closely with business analysts and subject matter experts to understand data analysis requirements, data definitions, and to develop data mappings, data rules, and data transformations for reporting related to a particular data warehouse and/or analytic subject area.\n",
      "finalizes the conceptual data models developed by the bi lead, most often a dimensional model with facts and dimensions. documents and communicates model design to project team.\n",
      "leads development of logical data models. documents, communicates, and maintains model design for the project team.\n",
      "leads design and implementation of physical databases including index definitions, partitioning, parallelism, tuning, and space management.\n",
      "utilizes database design and documentation tools to document, analyze, and communicate database information.\n",
      "designs dw security.\n",
      "implements test and qa strategies and prepares for rollout, including assuring data validation and integrity.\n",
      "coordinates development resources to ensure that project timelines are met.\n",
      "leads the design of etl processing modules based on transformation rules, mapping rules, processing requirements and database model.\n",
      "leads the design of etl auditing steps to ensure data integrity and completeness of the etl process.\n",
      "leads the design of etl process flow including module dependencies and parallel processing opportunities.\n",
      "provides documentation for and works with job scheduling team to automate etl processing.\n",
      "leads the design of programming specifications for each etl component.\n",
      "leads the design of testing plans for each phase of the development process. plans must ensure accuracy and quality of program code as well as thorough data validation procedures.\n",
      "develops efficient code that meets analysis and design criteria.\n",
      "coordinates etl development resources to ensure that project timelines are met.\n",
      "provides break/fix support and communicates outages as defined by it services standards.\n",
      "troubleshoots and tunes dw and analytic systems.\n",
      "coordinates testing of software patches and upgrades.\n",
      "works closely with bis colleagues to implement dw best practices, supporting integration of information from different subject areas.\n",
      "promulgates dw, etl and related development standards, processes, and best practices throughout bis.\n",
      "participates in the selection of dw, etl and related enabling tools, including software and consulting.\n",
      "deep expertise in dw, etl and analytic systems best practices and emerging trends is imperative\n",
      "works with users to ensure deliverables are meeting or exceeding expectations. provides support and communicates issues to users as defined by it standards.\n",
      "plans, tests and guides roll-out of patches and upgrades to the bi and analytic software. solves problems in the development and interpretation of bi and analytics system standards and procedures.\n",
      "performs other related work as needed.\n",
      "education:\n",
      "minimum qualifications\n",
      "minimum requirements include a college or university degree in related field.\n",
      "work experience:\n",
      "minimum requirements include knowledge and skills developed through 5-7 years of work experience in a related job discipline.\n",
      "certifications:\n",
      "preferred qualifications\n",
      "education:\n",
      "bachelor's degree.\n",
      "advanced study or professional certifications in database, data management, dw, or etl disciplines.\n",
      "experience:\n",
      "four years experience designing and building etl using odi.\n",
      "four years experience designing and building data warehouse systems using oracle and vpd.\n",
      "one year of experience building mulesoft applications.\n",
      "five to seven years of database and application development experience with a formal software development life cycle.\n",
      "three years hadoop experience with cloudera apache hadoop ecosystem (nifi, zeppelin, oozie, spark, impala, kafka, et al).\n",
      "a minimum of five years of data warehouse development experience including expert knowledge of data warehousing methodologies (e.g. kimball).\n",
      "a minimum of four years of experience designing and building dimensional data warehouses with oracle db, oracle stored procedures and packages.\n",
      "a minimum of four years or more designing and developing etl processes for data warehouse implementations using oracle owb or equivalent etl tools.\n",
      "experience as lead dw/etl designer on two successful enterprise data warehouse initiatives, using both formal software lifecycle development and project management.\n",
      "two years experience working within the itil framework including incident, service, problem, and change management processes and procedures.\n",
      "technical skills or knowledge:\n",
      "programming environments, languages, and systems built using (java, python, r).\n",
      "ai/ml and predictive analytic algorithms.\n",
      "knowledge of reporting and analytic systems based on current-generation erp systems.\n",
      "familiarity with business objects, tableau or obia/obiee.\n",
      "oracle cloud financials.\n",
      "familiarity with higher education administrative systems and data.\n",
      "working knowledge of java applications.\n",
      "expertise with data query, analysis, reporting techniques, and olap.\n",
      "expertise in database design and tools (e.g. power designer or erwin).\n",
      "expertise to develop and administer unix-based relational database architectures (odbc, jdbc, perl dbi, shell scripting, pl/sql, sql developer, sql plus, sql loader, toad, java).\n",
      "expert skills in data profiling, source-target mapping, implementation of transformations and business rules.\n",
      "superior etl design and development skills including maps, process flows, auditing, and scheduling using vendor tools (owb, odi, data stage, or informatica).\n",
      "expertise in sql coding techniques, performance monitoring and tuning.\n",
      "working with unix server, and windows workstation and server environments.\n",
      "microsoft office application suite, especially excel.\n",
      "preferred competencies\n",
      "excellent analytic skills to quickly synthesize technical, functional, and user inputs, and manage problem-solving to issue resolution.\n",
      "leads joint design sessions, documenting the results using business process design tools.\n",
      "strong oral and written communication skills, including developing standards and procedures, and presenting technical concepts to non-technical audiences.\n",
      "commitment to working and sharing expertise in a collaborative team environment.\n",
      "strong sense of accountability for completing work within defined scope and timeline, with ability to multi-task effectively.\n",
      "very high attention to detail and accuracy.\n",
      "working conditions\n",
      "standard office environment.\n",
      "on-call responsibilities.\n",
      "application documents\n",
      "resume/cv (required)\n",
      "cover letter (required)\n",
      "when applying, the document(s)\n",
      "must\n",
      "be uploaded via the\n",
      "my experience\n",
      "page, in the section titled\n",
      "application documents\n",
      "of the application.\n",
      "job family\n",
      "information technology\n",
      "role impact\n",
      "individual contributor\n",
      "flsa status\n",
      "exempt\n",
      "pay frequency\n",
      "monthly\n",
      "scheduled\n",
      "weekly hours\n",
      "37.5\n",
      "benefits eligible\n",
      "yes\n",
      "drug test required\n",
      "no\n",
      "health screen required\n",
      "no\n",
      "motor vehicle record inquiry required\n",
      "no\n",
      "posting statement\n",
      "the university of chicago is an affirmative action/equal opportunity/disabled/veterans and does not discriminate on the basis of race, color, religion, sex, sexual orientation, gender, gender identity, national or ethnic origin, age, status as an individual with a disability, military or veteran status, genetic information, or other protected classes under the law. for additional information please see the university's notice of nondiscrimination.\n",
      "staff job seekers in need of a reasonable accommodation to complete the application process should call 773-702-5800 or submit a request via applicant inquiry form.\n",
      "we seek a diverse pool of applicants who wish to join an academic community that places the highest value on rigorous inquiry and encourages a diversity of perspectives, experiences, groups of individuals, and ideas to inform and stimulate intellectual challenge, engagement, and exchange.\n",
      "all offers of employment are contingent upon a background check that includes a review of conviction history. a conviction does not automatically preclude university employment. rather, the university considers conviction information on a case-by-case basis and assesses the nature of the offense, the circumstances surrounding it, the proximity in time of the conviction, and its relevance to the position.\n",
      "the university of chicago's annual security & fire safety report (report) provides information about university offices and programs that provide safety support, crime and fire statistics, emergency response and communications plans, and other policies and information. the report can be accessed online at: http://securityreport.uchicago.edu. paper copies of the report are available, upon request, from the university of chicago police department, 850 e. 61st street, chicago, il 60637.\n",
      "show more\n",
      "show less\n"
     ]
    }
   ],
   "source": [
    "example = df_merge[\"job_summary\"][5]\n",
    "print(example)"
   ]
  },
  {
   "cell_type": "markdown",
   "id": "d3155c5e-14a9-41f0-8ee1-1b1dffac806b",
   "metadata": {},
   "source": [
    "# Text Preprocessing"
   ]
  },
  {
   "cell_type": "code",
   "execution_count": 10,
   "id": "11004253-d4ee-46ce-abb0-35679e42b916",
   "metadata": {},
   "outputs": [
    {
     "name": "stdout",
     "output_type": "stream",
     "text": [
      "department f business intelligence solution department service collaborate campus partner support mission university chicago consistent delivery high quality solution service provide secure stable reliable infrastructure application support mission university support enable faculty research teach effective use technology simplify technology experience faculty student alumni staff ensure technology mobile friendly accessible identify manage mitigate technology risk university job summary senior data engineer technical lead project design develop qa data warehouse dw extract transform load etl environment database environment enable analytics role follow prescribe project development methodology direction project manager role work closely lead architect bi lead dw developer source application developer subject matter expert smes senior data engineer support maintain enhance environment achieve cross functional integrated reporting analysis environment university user responsibility work closely business analyst subject matter expert understand data analysis requirement data definition develop data mapping data rule data transformation report related particular data warehouse analytic subject area finalize conceptual data model develop bi lead often dimensional model fact dimension document communicates model design project team lead development logical data model document communicates maintains model design project team lead design implementation physical database include index definition partition parallelism tune space management utilizes database design documentation tool document analyze communicate database information design dw security implement test qa strategy prepare rollout include assure data validation integrity coordinate development resource ensure project timeline meet lead design etl processing module base transformation rule map rule process requirement database model lead design etl audit step ensure data integrity completeness etl process lead design etl process flow include module dependency parallel process opportunity provide documentation work job schedule team automate etl process lead design program specification etl component lead design test plan phase development process plan must ensure accuracy quality program code well thorough data validation procedure develop efficient code meet analysis design criterion coordinate etl development resource ensure project timeline meet provide break fix support communicates outage define service standard troubleshoots tune dw analytic system coordinate test software patch upgrade work closely bis colleague implement dw best practice support integration information different subject area promulgate dw etl relate development standard process best practice throughout bi participates selection dw etl related enabling tool include software consult deep expertise dw etl analytic system best practice emerge trend imperative work user ensure deliverable meet exceed expectation provide support communicates issue user define standard plan test guide roll patch upgrade bi analytic software solve problem development interpretation bi analytics system standard procedure performs related work need education minimum qualification minimum requirement include college university degree related field work experience minimum requirement include knowledge skill develop year work experience related job discipline certification prefer qualification education bachelor degree advance study professional certification database data management dw etl discipline experience four year experience design building etl use odi four year experience design building data warehouse system use oracle vpd one year experience building mulesoft application five seven year database application development experience formal software development life cycle three year hadoop experience cloudera apache hadoop ecosystem nifi zeppelin oozie spark impala kafka et al minimum five year data warehouse development experience include expert knowledge data warehouse methodology e g kimball minimum four year experience design build dimensional data warehouse oracle db oracle store procedure package minimum four year design develop etl process data warehouse implementation use oracle owb equivalent etl tool experience lead dw etl designer two successful enterprise data warehouse initiative use formal software lifecycle development project management two year experience work within itil framework include incident service problem change management process procedure technical skill knowledge program environment languages system build use java python r ai ml predictive analytic algorithm knowledge report analytic system base current generation erp system familiarity business object tableau obia obiee oracle cloud financials familiarity high education administrative system data work knowledge java application expertise data query analysis report technique olap expertise database design tool e g power designer erwin expertise develop administer unix base relational database architectures odbc jdbc perl dbi script pl sql sql developer sql plus sql loader toad java expert skill data profile source target map implementation transformation business rule superior etl design development skill include map process flow audit schedule use vendor tool owb odi data stage informatica expertise sql cod technique performance monitoring tune work unix server windows workstation server environment microsoft office application suite especially excel preferred competency excellent analytic skill quickly synthesize technical functional user input manage problem solve issue resolution lead joint design session document result use business process design tool strong oral write communication skill include develop standard procedure present technical concept non technical audience commitment work share expertise collaborative team environment strong sense accountability complete work within define scope timeline ability multi task effectively high attention detail accuracy work condition standard office environment call responsibility application document resume cv require cover letter require apply document must upload via experience page section title application document application job family information technology role impact individual contributor flsa status exempt pay frequency monthly schedule weekly hour benefit eligible yes drug test require health screen require motor vehicle record inquiry require post statement university chicago affirmative action equal opportunity disable veteran discriminate basis race color religion sex sexual orientation gender gender identity national ethnic origin age status individual disability military veteran status genetic information protect class law additional information please see university notice nondiscrimination staff job seeker need reasonable accommodation complete application process call submit request via applicant inquiry form seek diverse pool applicant wish join academic community place high value rigorous inquiry encourage diversity perspective experience group individual idea inform stimulate intellectual challenge engagement exchange offer employment contingent upon background check include review conviction history conviction automatically preclude university employment rather university considers conviction information case case basis assess nature offense circumstance surround proximity time conviction relevance position university chicago annual security fire safety report report provide information university office program provide safety support crime fire statistic emergency response communication plan policy information report access online http securityreport uchicago edu paper copy report available upon request university chicago police department e st street chicago il show show less\n"
     ]
    }
   ],
   "source": [
    "# Remove special characters\n",
    "def remove_spec_chars(text):\n",
    "    return re.sub(r'[\\.\\?\\!\\,\\:\\;\\&\\/\\(\\)\\+\\-\\'\\$\\+\\’\\@\\%]', ' ', text)\n",
    "\n",
    "# Remove stopwords (this, a, an)\n",
    "stop_words = set(stopwords.words('english'))\n",
    "\n",
    "def stopword(text):\n",
    "    \n",
    "    # Step 1: Tokenize the input string into words\n",
    "    words = text.split()\n",
    "    \n",
    "    # Step 2: Filter out the stopwords\n",
    "    filtered_words = []\n",
    "    for word in words:\n",
    "        if word not in stop_words:\n",
    "            filtered_words.append(word)\n",
    "    \n",
    "    # Step 3: Join the filtered words back into a single string\n",
    "    result = ' '.join(filtered_words)\n",
    "    return result\n",
    "\n",
    "# Remove numbers\n",
    "def numbers(text):\n",
    "    return re.sub(r'\\d',' ', text)\n",
    "\n",
    "# Remove whitespace\n",
    "def whitespace(text):\n",
    "    return \" \".join(text.split())\n",
    "    #return text.strip()\n",
    "\n",
    "# Lemmatize\n",
    "wl = WordNetLemmatizer()\n",
    "text = \"Hello my name's Kristof Dome and I'm here to do some interesting things today\"\n",
    "\n",
    "def get_wordnet_pos(tag):\n",
    "    if tag.startswith('J'):\n",
    "        return wordnet.ADJ\n",
    "    elif tag.startswith('V'):\n",
    "        return wordnet.VERB\n",
    "    elif tag.startswith('N'):\n",
    "        return wordnet.NOUN\n",
    "    elif tag.startswith('R'):\n",
    "        return wordnet.ADV\n",
    "    else:\n",
    "        return wordnet.NOUN\n",
    "\n",
    "\n",
    "def lemmatizer(string):\n",
    "    word_pos_tags = nltk.pos_tag(word_tokenize(string)) # Get PoS tags\n",
    "    a=[wl.lemmatize(tag[0], get_wordnet_pos(tag[1])) for idx, tag in enumerate(word_pos_tags)] # Map the PoS tag and lemmatize the word/token\n",
    "    return \" \".join(a)\n",
    "\n",
    "def contract(string):\n",
    "    return contractions.fix(string)\n",
    "\n",
    "df_merge[\"clean_text\"]=df_merge[\"job_summary\"].apply(contract).apply(remove_spec_chars).apply(stopword).apply(numbers).apply(whitespace).apply(lemmatizer)\n",
    "example = df_merge[\"clean_text\"][5]\n",
    "print(example)\n",
    "#TODO: Use contractions before removing special charactes. Then at the end apply the lemmatizer"
   ]
  },
  {
   "cell_type": "markdown",
   "id": "66188436-7c3b-484b-b323-e15ae40051e9",
   "metadata": {},
   "source": [
    "# Vectorization / Word embedding (text -> numerical)"
   ]
  },
  {
   "cell_type": "markdown",
   "id": "2848213b-daf3-487e-8d82-9640b1cb0476",
   "metadata": {},
   "source": [
    "## Train-test split"
   ]
  },
  {
   "cell_type": "code",
   "execution_count": 11,
   "id": "2ab2ddd3-caaf-4f33-9c59-5d2b2f80eedf",
   "metadata": {},
   "outputs": [],
   "source": [
    "#TODO: vectorize database OR find most common terms, extract them\n",
    "X_train, X_test, y_train, y_test = train_test_split(df_merge[\"clean_text\"],df_merge[\"job_title\"],test_size=0.2,shuffle=True)\n",
    "\n",
    "X_train_tok = []\n",
    "X_test_tok = []\n",
    "\n",
    "for text in X_train:\n",
    "    text_tok = nltk.word_tokenize(text)\n",
    "    X_train_tok.append(text_tok)\n",
    "\n",
    "for text in X_test:\n",
    "    text_tok = nltk.word_tokenize(text)\n",
    "    X_test_tok.append(text_tok)"
   ]
  },
  {
   "cell_type": "markdown",
   "id": "c1ccf6ce-4e9c-45ca-abeb-6f2cd6eae421",
   "metadata": {},
   "source": [
    "## Vectorization"
   ]
  },
  {
   "cell_type": "code",
   "execution_count": 12,
   "id": "d2f34a5c-eaeb-4341-a173-01731dd226aa",
   "metadata": {},
   "outputs": [
    {
     "name": "stdout",
     "output_type": "stream",
     "text": [
      "['job', 'description', 'medical', 'technologist', 'analyze', 'bodily', 'fluid', 'check', 'disease', 'abnormality', 'work', 'hospital', 'lab', 'private', 'practice', 'outpatient', 'center', 'healthcare', 'facility', 'collect', 'blood', 'urine', 'sample', 'analyze', 'sample', 'maintain', 'equipment', 'handle', 'patient', 'data', 'play', 'critical', 'role', 'maintain', 'sterile', 'condition', 'prevent', 'disease', 'help', 'patient', 'provider', 'find', 'answer', 'various', 'health', 'concern', 'minimum', 'requirement', 'least', 'year', 'recent', 'experience', 'medical', 'technologist', 'ascp', 'amt', 'hew', 'aab', 'certification', 'bls', 'certification', 'aha', 'current', 'state', 'license', 'applicable', 'benefit', 'benefit', 'take', 'travel', 'ally', 'job', 'cross', 'country', '*', 'include', 'private', 'housing', 'generous', 'housing', 'allowance', 'comprehensive', 'health', 'insurance', 'prescription', 'coverage', 'dependent', 'health', 'insurance', 'prescription', 'coverage', 'competitive', 'salary', 'referral', 'bonus', 'travel', 'reimbursement', 'k', 'retirement', 'plan', 'direct', 'deposit', 'free', 'checking', 'unlimited', 'free', 'ce', 'credit', 'post', 'date', 'show', 'show', 'less']\n",
      "engineer\n"
     ]
    }
   ],
   "source": [
    "#Visualizing datasets\n",
    "print(X_train_tok[2])\n",
    "print(y_train[2])"
   ]
  },
  {
   "cell_type": "code",
   "execution_count": 13,
   "id": "d98deab9-ada5-48b0-aee0-6d8db57cc356",
   "metadata": {},
   "outputs": [
    {
     "name": "stdout",
     "output_type": "stream",
     "text": [
      "  (0, 7858)\t0.06407438784993998\n",
      "  (0, 24152)\t0.059947816646520324\n",
      "  (0, 7168)\t0.09584672787984261\n",
      "  (0, 4958)\t0.12516534646916744\n",
      "  (0, 32544)\t0.11303079061621268\n",
      "  (0, 5265)\t0.15400269921861376\n",
      "  (0, 12436)\t0.12714420302271093\n",
      "  (0, 8412)\t0.1262779078241213\n",
      "  (0, 8815)\t0.06694904983490058\n",
      "  (0, 26213)\t0.0801655544721496\n",
      "  (0, 3775)\t0.058758788686684216\n",
      "  (0, 26081)\t0.09821922920084108\n",
      "  (0, 6213)\t0.052814211037051785\n",
      "  (0, 8393)\t0.08612539283032514\n",
      "  (0, 7025)\t0.15262319361616591\n",
      "  (0, 24459)\t0.23201954190109084\n",
      "  (0, 15961)\t0.11706117272881067\n",
      "  (0, 6287)\t0.05346694752422061\n",
      "  (0, 14629)\t0.24539915952560615\n",
      "  (0, 6987)\t0.06662179153277512\n",
      "  (0, 7239)\t0.05557649353132632\n",
      "  (0, 1201)\t0.12289508252174433\n",
      "  (0, 1774)\t0.055606394786106184\n",
      "  (0, 18019)\t0.08179118857950428\n",
      "  (0, 29560)\t0.04456377184463142\n",
      "  :\t:\n",
      "  (0, 30537)\t0.05368573416215939\n",
      "  (0, 7214)\t0.0528759906312714\n",
      "  (0, 27064)\t0.033277560767061426\n",
      "  (0, 8464)\t0.04482211788234868\n",
      "  (0, 17919)\t0.02259891720560867\n",
      "  (0, 28408)\t0.04519321035395602\n",
      "  (0, 14112)\t0.13725102323954622\n",
      "  (0, 6365)\t0.09782765127927426\n",
      "  (0, 14206)\t0.04228521287687318\n",
      "  (0, 31796)\t0.1325984170188571\n",
      "  (0, 1193)\t0.11191700952175272\n",
      "  (0, 23822)\t0.042351658518546505\n",
      "  (0, 26710)\t0.07392253321765031\n",
      "  (0, 15426)\t0.02910877856022373\n",
      "  (0, 12961)\t0.0825019331016131\n",
      "  (0, 11215)\t0.02376371404751968\n",
      "  (0, 18707)\t0.08046158167074441\n",
      "  (0, 23095)\t0.15134404248876002\n",
      "  (0, 11417)\t0.08025451227966024\n",
      "  (0, 16828)\t0.06644395173513641\n",
      "  (0, 11863)\t0.06577681990447708\n",
      "  (0, 34373)\t0.024703251029440956\n",
      "  (0, 3228)\t0.0777480784268178\n",
      "  (0, 27440)\t0.04740142863158102\n",
      "  (0, 7712)\t0.024792255589303622\n"
     ]
    }
   ],
   "source": [
    "#Tf-Idf\n",
    "tfidf_vectorizer = TfidfVectorizer(use_idf=True)\n",
    "X_train_vectors_tfidf = tfidf_vectorizer.fit_transform(X_train) \n",
    "X_test_vectors_tfidf = tfidf_vectorizer.transform(X_test)\n",
    "print(X_train_vectors_tfidf[2])"
   ]
  },
  {
   "cell_type": "markdown",
   "id": "1cf26975-7dc5-4344-a40b-49ea68e2d363",
   "metadata": {},
   "source": [
    "# Model implementation"
   ]
  },
  {
   "cell_type": "code",
   "execution_count": 14,
   "id": "74313717-ec6d-40ac-b9cb-cec58b4ceb83",
   "metadata": {},
   "outputs": [
    {
     "name": "stdout",
     "output_type": "stream",
     "text": [
      "Testing database size: 2444 \n",
      "Training database size: 9773 \n",
      "Number of features (unique words): 34992\n"
     ]
    }
   ],
   "source": [
    "# TODO: Use 1. logistic regression 2. SVM 3. Custom NN \n",
    "\n",
    "print(f\"Testing database size: {y_test.shape[0]} \\n\"\n",
    "f\"Training database size: {y_train.shape[0]} \\n\"\n",
    "f\"Number of features (unique words): {X_train_vectors_tfidf.shape[1]}\")"
   ]
  },
  {
   "cell_type": "code",
   "execution_count": 24,
   "id": "36881675-f3ac-4cbe-a661-b092249c6aca",
   "metadata": {},
   "outputs": [
    {
     "name": "stdout",
     "output_type": "stream",
     "text": [
      "Fist 5 examples (probabilistic prediction wrt. engineers), (classiciation of each job description)\n",
      "[0.9947988  0.99918178 0.98428569 0.99946145 0.88997141] ['engineer' 'engineer' 'engineer' 'engineer' 'engineer']\n"
     ]
    }
   ],
   "source": [
    "#Initilize log. reg. model\n",
    "logres_model=LogisticRegression(solver = 'sag', C=20)\n",
    "\n",
    "#Apply model on training database\n",
    "logres_model.fit(X_train_vectors_tfidf, y_train)  \n",
    "\n",
    "#Class predictions (\"engineer\" (0) or \"manager\" (1))\n",
    "y_predict = logres_model.predict(X_test_vectors_tfidf)\n",
    "#Probabilistic predictions (0 to 1 for each class - only get probabilities for class 0 (engineeer) in this case)\n",
    "y_prob = logres_model.predict_proba(X_test_vectors_tfidf)[:,0]\n",
    "\n",
    "print(\"Fist 5 examples (probabilistic prediction wrt. engineers), (classiciation of each job description)\")\n",
    "print(f\"{y_prob[:5]} {y_predict[:5]}\")"
   ]
  },
  {
   "cell_type": "markdown",
   "id": "56ffd002-8bf7-46a1-8aa8-30dda3b21409",
   "metadata": {},
   "source": [
    "# Data visualization"
   ]
  },
  {
   "cell_type": "code",
   "execution_count": 25,
   "id": "79f3de8f-e831-4144-a398-55635e5daf91",
   "metadata": {},
   "outputs": [
    {
     "name": "stdout",
     "output_type": "stream",
     "text": [
      "              precision    recall  f1-score   support\n",
      "\n",
      "    engineer       0.96      0.98      0.97      2117\n",
      "     manager       0.88      0.73      0.80       327\n",
      "\n",
      "    accuracy                           0.95      2444\n",
      "   macro avg       0.92      0.86      0.89      2444\n",
      "weighted avg       0.95      0.95      0.95      2444\n",
      "\n",
      "Model accuracy: 95.04909983633388\n",
      "\n",
      "Confusion Matrix:\n"
     ]
    },
    {
     "data": {
      "text/plain": [
       "<sklearn.metrics._plot.confusion_matrix.ConfusionMatrixDisplay at 0x20103efe870>"
      ]
     },
     "execution_count": 25,
     "metadata": {},
     "output_type": "execute_result"
    },
    {
     "data": {
      "image/png": "[encoded data removed]",
      "text/plain": [
       "<Figure size 640x480 with 2 Axes>"
      ]
     },
     "metadata": {},
     "output_type": "display_data"
    }
   ],
   "source": [
    "# Compare accuracy, confusion matrix.\n",
    "# Use PowerBI to visualize all kinds of other data.\n",
    "#Create classification report\n",
    "print(classification_report(y_test,y_predict))\n",
    "cm = confusion_matrix(y_test, y_predict)\n",
    "disp = ConfusionMatrixDisplay(confusion_matrix=cm, display_labels=logres_model.classes_)\n",
    "print(f\"Model accuracy: {classification_report(y_test,y_predict, output_dict=True)[\"accuracy\"]*100}\\n\")\n",
    "print('Confusion Matrix:')\n",
    "disp.plot()\n",
    "\n",
    "#TODO: Graphically represent classification instances. Create a NN and compare the results."
   ]
  },
  {
   "cell_type": "code",
   "execution_count": null,
   "id": "f3e04a01-b76e-4a95-8657-e073086e4599",
   "metadata": {},
   "outputs": [],
   "source": []
  }
 ],
 "metadata": {
  "kernelspec": {
   "display_name": "ds_ml_env",
   "language": "python",
   "name": "ds_ml_env"
  },
  "language_info": {
   "codemirror_mode": {
    "name": "ipython",
    "version": 3
   },
   "file_extension": ".py",
   "mimetype": "text/x-python",
   "name": "python",
   "nbconvert_exporter": "python",
   "pygments_lexer": "ipython3",
   "version": "3.12.3"
  }
 },
 "nbformat": 4,
 "nbformat_minor": 5
}
